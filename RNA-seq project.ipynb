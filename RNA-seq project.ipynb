{
 "cells": [
  {
   "cell_type": "markdown",
   "id": "57a66527",
   "metadata": {},
   "source": [
    "# Generating matrix of the rsem estimated_counts"
   ]
  },
  {
   "cell_type": "code",
   "execution_count": 1,
   "id": "b86c4a17",
   "metadata": {},
   "outputs": [
    {
     "name": "stderr",
     "output_type": "stream",
     "text": [
      "── \u001b[1mAttaching packages\u001b[22m ─────────────────────────────────────────────────────────────────────────────── tidyverse 1.3.2 ──\n",
      "\u001b[32m✔\u001b[39m \u001b[34mggplot2\u001b[39m 3.4.0      \u001b[32m✔\u001b[39m \u001b[34mpurrr  \u001b[39m 0.3.5 \n",
      "\u001b[32m✔\u001b[39m \u001b[34mtibble \u001b[39m 3.1.8      \u001b[32m✔\u001b[39m \u001b[34mdplyr  \u001b[39m 1.0.10\n",
      "\u001b[32m✔\u001b[39m \u001b[34mtidyr  \u001b[39m 1.2.1      \u001b[32m✔\u001b[39m \u001b[34mstringr\u001b[39m 1.5.0 \n",
      "\u001b[32m✔\u001b[39m \u001b[34mreadr  \u001b[39m 2.1.3      \u001b[32m✔\u001b[39m \u001b[34mforcats\u001b[39m 0.5.2 \n",
      "Warning message:\n",
      "\"package 'ggplot2' was built under R version 4.2.2\"\n",
      "Warning message:\n",
      "\"package 'stringr' was built under R version 4.2.2\"\n",
      "── \u001b[1mConflicts\u001b[22m ────────────────────────────────────────────────────────────────────────────────── tidyverse_conflicts() ──\n",
      "\u001b[31m✖\u001b[39m \u001b[34mdplyr\u001b[39m::\u001b[32mfilter()\u001b[39m masks \u001b[34mstats\u001b[39m::filter()\n",
      "\u001b[31m✖\u001b[39m \u001b[34mdplyr\u001b[39m::\u001b[32mlag()\u001b[39m    masks \u001b[34mstats\u001b[39m::lag()\n"
     ]
    }
   ],
   "source": [
    "# Loading results\n",
    "\n",
    "library(tidyverse)\n",
    "\n",
    "setwd(\"C:\\\\Users\\\\mapanavici\\\\RStudio\\\\R\")\n",
    "\n",
    "Ov4Carbopool3 <- read.delim(\"WTCHG_626197_201106_.genes.results\", header = TRUE)\n",
    "\n",
    "Ovcar4Parental1 <- read.delim(\"WTCHG_626197_289105_.genes.results\", header = TRUE)\n",
    "\n",
    "Ovcar4Parental2 <- read.delim(\"WTCHG_626197_290117_.genes.results\", header = TRUE)\n",
    "\n",
    "Ovcar4Parental3 <- read.delim(\"WTCHG_626197_291129_.genes.results\", header = TRUE)\n",
    "\n",
    "Ov4Carbopool1 <- read.delim(\"WTCHG_626197_295177_.genes.results\", header = TRUE)\n",
    " \n",
    "Ov4Carbopool2 <- read.delim(\"WTCHG_626197_296189_.genes.results\", header = TRUE)\n"
   ]
  },
  {
   "cell_type": "code",
   "execution_count": 2,
   "id": "74d707e2",
   "metadata": {},
   "outputs": [],
   "source": [
    "# Obtaining \"gene_id\" and \"expected_count\" columns, renaming \"expected_count\" column to individual sample.names\n",
    "\n",
    "get_counts <- function(sample_df) {\n",
    "  \n",
    "  id_and_counts <- select(sample_df, gene_id, expected_count)\n",
    "  names(id_and_counts)[2] <- deparse(substitute(sample_df))\n",
    "  \n",
    "  return(id_and_counts)\n",
    "}\n",
    "\n",
    "df1 <- get_counts(Ovcar4Parental1)\n",
    "df2 <- get_counts(Ovcar4Parental2)\n",
    "df3 <- get_counts(Ovcar4Parental3)\n",
    "df4 <- get_counts(Ov4Carbopool1)\n",
    "df5 <- get_counts(Ov4Carbopool2)\n",
    "df6 <- get_counts(Ov4Carbopool3)"
   ]
  },
  {
   "cell_type": "code",
   "execution_count": 4,
   "id": "e43bfc6a",
   "metadata": {},
   "outputs": [
    {
     "data": {
      "text/html": [
       "<table class=\"dataframe\">\n",
       "<caption>A data.frame: 6 × 7</caption>\n",
       "<thead>\n",
       "\t<tr><th></th><th scope=col>gene_id</th><th scope=col>Ovcar4Parental1</th><th scope=col>Ovcar4Parental2</th><th scope=col>Ovcar4Parental3</th><th scope=col>Ov4Carbopool1</th><th scope=col>Ov4Carbopool2</th><th scope=col>Ov4Carbopool3</th></tr>\n",
       "\t<tr><th></th><th scope=col>&lt;chr&gt;</th><th scope=col>&lt;dbl&gt;</th><th scope=col>&lt;dbl&gt;</th><th scope=col>&lt;dbl&gt;</th><th scope=col>&lt;dbl&gt;</th><th scope=col>&lt;dbl&gt;</th><th scope=col>&lt;dbl&gt;</th></tr>\n",
       "</thead>\n",
       "<tbody>\n",
       "\t<tr><th scope=row>1</th><td>ENSG00000000003</td><td> 896</td><td> 908</td><td>1009</td><td> 823</td><td> 894</td><td> 898</td></tr>\n",
       "\t<tr><th scope=row>2</th><td>ENSG00000000005</td><td>   0</td><td>   0</td><td>   0</td><td>   0</td><td>   0</td><td>   0</td></tr>\n",
       "\t<tr><th scope=row>3</th><td>ENSG00000000419</td><td>1733</td><td>1410</td><td>1647</td><td>1584</td><td>2701</td><td>2206</td></tr>\n",
       "\t<tr><th scope=row>4</th><td>ENSG00000000457</td><td> 157</td><td> 125</td><td> 168</td><td> 173</td><td> 282</td><td> 192</td></tr>\n",
       "\t<tr><th scope=row>5</th><td>ENSG00000000460</td><td> 501</td><td> 541</td><td> 705</td><td> 401</td><td> 543</td><td> 564</td></tr>\n",
       "\t<tr><th scope=row>6</th><td>ENSG00000000938</td><td>   0</td><td>   0</td><td>   0</td><td>   0</td><td>   0</td><td>   0</td></tr>\n",
       "</tbody>\n",
       "</table>\n"
      ],
      "text/latex": [
       "A data.frame: 6 × 7\n",
       "\\begin{tabular}{r|lllllll}\n",
       "  & gene\\_id & Ovcar4Parental1 & Ovcar4Parental2 & Ovcar4Parental3 & Ov4Carbopool1 & Ov4Carbopool2 & Ov4Carbopool3\\\\\n",
       "  & <chr> & <dbl> & <dbl> & <dbl> & <dbl> & <dbl> & <dbl>\\\\\n",
       "\\hline\n",
       "\t1 & ENSG00000000003 &  896 &  908 & 1009 &  823 &  894 &  898\\\\\n",
       "\t2 & ENSG00000000005 &    0 &    0 &    0 &    0 &    0 &    0\\\\\n",
       "\t3 & ENSG00000000419 & 1733 & 1410 & 1647 & 1584 & 2701 & 2206\\\\\n",
       "\t4 & ENSG00000000457 &  157 &  125 &  168 &  173 &  282 &  192\\\\\n",
       "\t5 & ENSG00000000460 &  501 &  541 &  705 &  401 &  543 &  564\\\\\n",
       "\t6 & ENSG00000000938 &    0 &    0 &    0 &    0 &    0 &    0\\\\\n",
       "\\end{tabular}\n"
      ],
      "text/markdown": [
       "\n",
       "A data.frame: 6 × 7\n",
       "\n",
       "| <!--/--> | gene_id &lt;chr&gt; | Ovcar4Parental1 &lt;dbl&gt; | Ovcar4Parental2 &lt;dbl&gt; | Ovcar4Parental3 &lt;dbl&gt; | Ov4Carbopool1 &lt;dbl&gt; | Ov4Carbopool2 &lt;dbl&gt; | Ov4Carbopool3 &lt;dbl&gt; |\n",
       "|---|---|---|---|---|---|---|---|\n",
       "| 1 | ENSG00000000003 |  896 |  908 | 1009 |  823 |  894 |  898 |\n",
       "| 2 | ENSG00000000005 |    0 |    0 |    0 |    0 |    0 |    0 |\n",
       "| 3 | ENSG00000000419 | 1733 | 1410 | 1647 | 1584 | 2701 | 2206 |\n",
       "| 4 | ENSG00000000457 |  157 |  125 |  168 |  173 |  282 |  192 |\n",
       "| 5 | ENSG00000000460 |  501 |  541 |  705 |  401 |  543 |  564 |\n",
       "| 6 | ENSG00000000938 |    0 |    0 |    0 |    0 |    0 |    0 |\n",
       "\n"
      ],
      "text/plain": [
       "  gene_id         Ovcar4Parental1 Ovcar4Parental2 Ovcar4Parental3 Ov4Carbopool1\n",
       "1 ENSG00000000003  896             908            1009             823         \n",
       "2 ENSG00000000005    0               0               0               0         \n",
       "3 ENSG00000000419 1733            1410            1647            1584         \n",
       "4 ENSG00000000457  157             125             168             173         \n",
       "5 ENSG00000000460  501             541             705             401         \n",
       "6 ENSG00000000938    0               0               0               0         \n",
       "  Ov4Carbopool2 Ov4Carbopool3\n",
       "1  894           898         \n",
       "2    0             0         \n",
       "3 2701          2206         \n",
       "4  282           192         \n",
       "5  543           564         \n",
       "6    0             0         "
      ]
     },
     "metadata": {},
     "output_type": "display_data"
    }
   ],
   "source": [
    "# Merging all data sets by \"gene_id\" column \n",
    "\n",
    "rawCounts <- list(df1, df2, df3, df4, df5 ,df6) %>% \n",
    "                reduce(inner_join, by='gene_id')\n",
    "\n",
    "head(rawCounts)"
   ]
  },
  {
   "cell_type": "markdown",
   "id": "a73e63ce",
   "metadata": {},
   "source": [
    "# Differential Expression Analysis"
   ]
  },
  {
   "cell_type": "code",
   "execution_count": 6,
   "id": "a3140155",
   "metadata": {},
   "outputs": [
    {
     "name": "stderr",
     "output_type": "stream",
     "text": [
      "'getOption(\"repos\")' replaces Bioconductor standard repositories, see\n",
      "'?repositories' for details\n",
      "\n",
      "replacement repositories:\n",
      "    CRAN: https://cran.r-project.org\n",
      "\n",
      "\n",
      "Bioconductor version 3.15 (BiocManager 1.30.19), R 4.2.1 (2022-06-23 ucrt)\n",
      "\n",
      "Old packages: 'bookdown', 'broom', 'bslib', 'cli', 'digest', 'doRNG',\n",
      "  'evaluate', 'formatR', 'highr', 'htmlwidgets', 'httpuv', 'isoband',\n",
      "  'maptools', 'nlme', 'purrr', 'rmarkdown', 'RSQLite', 'shiny', 'tidytree',\n",
      "  'tinytex', 'vctrs', 'xfun', 'yulab.utils'\n",
      "\n"
     ]
    }
   ],
   "source": [
    "options(warn = -1)\n",
    "\n",
    "if (!require(\"BiocManager\", quietly = TRUE)) \n",
    "  install.packages(\"BiocManager\") \n",
    "  BiocManager::install(\"DESeq2\")\n",
    "\n",
    "library(\"DESeq2\")"
   ]
  },
  {
   "cell_type": "code",
   "execution_count": 7,
   "id": "f5f18a24",
   "metadata": {},
   "outputs": [
    {
     "data": {
      "text/html": [
       "<table class=\"dataframe\">\n",
       "<caption>A data.frame: 6 × 6</caption>\n",
       "<thead>\n",
       "\t<tr><th></th><th scope=col>Ovcar4Parental1</th><th scope=col>Ovcar4Parental2</th><th scope=col>Ovcar4Parental3</th><th scope=col>Ov4Carbopool1</th><th scope=col>Ov4Carbopool2</th><th scope=col>Ov4Carbopool3</th></tr>\n",
       "\t<tr><th></th><th scope=col>&lt;dbl&gt;</th><th scope=col>&lt;dbl&gt;</th><th scope=col>&lt;dbl&gt;</th><th scope=col>&lt;dbl&gt;</th><th scope=col>&lt;dbl&gt;</th><th scope=col>&lt;dbl&gt;</th></tr>\n",
       "</thead>\n",
       "<tbody>\n",
       "\t<tr><th scope=row>ENSG00000000003</th><td> 896</td><td> 908</td><td>1009</td><td> 823</td><td> 894</td><td> 898</td></tr>\n",
       "\t<tr><th scope=row>ENSG00000000005</th><td>   0</td><td>   0</td><td>   0</td><td>   0</td><td>   0</td><td>   0</td></tr>\n",
       "\t<tr><th scope=row>ENSG00000000419</th><td>1733</td><td>1410</td><td>1647</td><td>1584</td><td>2701</td><td>2206</td></tr>\n",
       "\t<tr><th scope=row>ENSG00000000457</th><td> 157</td><td> 125</td><td> 168</td><td> 173</td><td> 282</td><td> 192</td></tr>\n",
       "\t<tr><th scope=row>ENSG00000000460</th><td> 501</td><td> 541</td><td> 705</td><td> 401</td><td> 543</td><td> 564</td></tr>\n",
       "\t<tr><th scope=row>ENSG00000000938</th><td>   0</td><td>   0</td><td>   0</td><td>   0</td><td>   0</td><td>   0</td></tr>\n",
       "</tbody>\n",
       "</table>\n"
      ],
      "text/latex": [
       "A data.frame: 6 × 6\n",
       "\\begin{tabular}{r|llllll}\n",
       "  & Ovcar4Parental1 & Ovcar4Parental2 & Ovcar4Parental3 & Ov4Carbopool1 & Ov4Carbopool2 & Ov4Carbopool3\\\\\n",
       "  & <dbl> & <dbl> & <dbl> & <dbl> & <dbl> & <dbl>\\\\\n",
       "\\hline\n",
       "\tENSG00000000003 &  896 &  908 & 1009 &  823 &  894 &  898\\\\\n",
       "\tENSG00000000005 &    0 &    0 &    0 &    0 &    0 &    0\\\\\n",
       "\tENSG00000000419 & 1733 & 1410 & 1647 & 1584 & 2701 & 2206\\\\\n",
       "\tENSG00000000457 &  157 &  125 &  168 &  173 &  282 &  192\\\\\n",
       "\tENSG00000000460 &  501 &  541 &  705 &  401 &  543 &  564\\\\\n",
       "\tENSG00000000938 &    0 &    0 &    0 &    0 &    0 &    0\\\\\n",
       "\\end{tabular}\n"
      ],
      "text/markdown": [
       "\n",
       "A data.frame: 6 × 6\n",
       "\n",
       "| <!--/--> | Ovcar4Parental1 &lt;dbl&gt; | Ovcar4Parental2 &lt;dbl&gt; | Ovcar4Parental3 &lt;dbl&gt; | Ov4Carbopool1 &lt;dbl&gt; | Ov4Carbopool2 &lt;dbl&gt; | Ov4Carbopool3 &lt;dbl&gt; |\n",
       "|---|---|---|---|---|---|---|\n",
       "| ENSG00000000003 |  896 |  908 | 1009 |  823 |  894 |  898 |\n",
       "| ENSG00000000005 |    0 |    0 |    0 |    0 |    0 |    0 |\n",
       "| ENSG00000000419 | 1733 | 1410 | 1647 | 1584 | 2701 | 2206 |\n",
       "| ENSG00000000457 |  157 |  125 |  168 |  173 |  282 |  192 |\n",
       "| ENSG00000000460 |  501 |  541 |  705 |  401 |  543 |  564 |\n",
       "| ENSG00000000938 |    0 |    0 |    0 |    0 |    0 |    0 |\n",
       "\n"
      ],
      "text/plain": [
       "                Ovcar4Parental1 Ovcar4Parental2 Ovcar4Parental3 Ov4Carbopool1\n",
       "ENSG00000000003  896             908            1009             823         \n",
       "ENSG00000000005    0               0               0               0         \n",
       "ENSG00000000419 1733            1410            1647            1584         \n",
       "ENSG00000000457  157             125             168             173         \n",
       "ENSG00000000460  501             541             705             401         \n",
       "ENSG00000000938    0               0               0               0         \n",
       "                Ov4Carbopool2 Ov4Carbopool3\n",
       "ENSG00000000003  894           898         \n",
       "ENSG00000000005    0             0         \n",
       "ENSG00000000419 2701          2206         \n",
       "ENSG00000000457  282           192         \n",
       "ENSG00000000460  543           564         \n",
       "ENSG00000000938    0             0         "
      ]
     },
     "metadata": {},
     "output_type": "display_data"
    }
   ],
   "source": [
    "# Tidying up the data for DESeq2\n",
    "\n",
    "rownames(rawCounts) <- rawCounts$gene_id\n",
    "\n",
    "rawCounts <-  select(rawCounts, -1)\n",
    "\n",
    "rawCounts <- ceiling(rawCounts) # converting floats to int for DESeq2\n",
    "\n",
    "head(rawCounts)\n"
   ]
  },
  {
   "cell_type": "code",
   "execution_count": 8,
   "id": "fa57562d",
   "metadata": {},
   "outputs": [
    {
     "data": {
      "text/html": [
       "<table class=\"dataframe\">\n",
       "<caption>A data.frame: 6 × 2</caption>\n",
       "<thead>\n",
       "\t<tr><th></th><th scope=col>sample.name</th><th scope=col>group</th></tr>\n",
       "\t<tr><th></th><th scope=col>&lt;chr&gt;</th><th scope=col>&lt;chr&gt;</th></tr>\n",
       "</thead>\n",
       "<tbody>\n",
       "\t<tr><th scope=row>1</th><td>Ovcar4Parental1</td><td>sensitive</td></tr>\n",
       "\t<tr><th scope=row>2</th><td>Ovcar4Parental2</td><td>sensitive</td></tr>\n",
       "\t<tr><th scope=row>3</th><td>Ovcar4Parental3</td><td>sensitive</td></tr>\n",
       "\t<tr><th scope=row>4</th><td>Ov4Carbopool1  </td><td>resistant</td></tr>\n",
       "\t<tr><th scope=row>5</th><td>Ov4Carbopool2  </td><td>resistant</td></tr>\n",
       "\t<tr><th scope=row>6</th><td>Ov4Carbopool3  </td><td>resistant</td></tr>\n",
       "</tbody>\n",
       "</table>\n"
      ],
      "text/latex": [
       "A data.frame: 6 × 2\n",
       "\\begin{tabular}{r|ll}\n",
       "  & sample.name & group\\\\\n",
       "  & <chr> & <chr>\\\\\n",
       "\\hline\n",
       "\t1 & Ovcar4Parental1 & sensitive\\\\\n",
       "\t2 & Ovcar4Parental2 & sensitive\\\\\n",
       "\t3 & Ovcar4Parental3 & sensitive\\\\\n",
       "\t4 & Ov4Carbopool1   & resistant\\\\\n",
       "\t5 & Ov4Carbopool2   & resistant\\\\\n",
       "\t6 & Ov4Carbopool3   & resistant\\\\\n",
       "\\end{tabular}\n"
      ],
      "text/markdown": [
       "\n",
       "A data.frame: 6 × 2\n",
       "\n",
       "| <!--/--> | sample.name &lt;chr&gt; | group &lt;chr&gt; |\n",
       "|---|---|---|\n",
       "| 1 | Ovcar4Parental1 | sensitive |\n",
       "| 2 | Ovcar4Parental2 | sensitive |\n",
       "| 3 | Ovcar4Parental3 | sensitive |\n",
       "| 4 | Ov4Carbopool1   | resistant |\n",
       "| 5 | Ov4Carbopool2   | resistant |\n",
       "| 6 | Ov4Carbopool3   | resistant |\n",
       "\n"
      ],
      "text/plain": [
       "  sample.name     group    \n",
       "1 Ovcar4Parental1 sensitive\n",
       "2 Ovcar4Parental2 sensitive\n",
       "3 Ovcar4Parental3 sensitive\n",
       "4 Ov4Carbopool1   resistant\n",
       "5 Ov4Carbopool2   resistant\n",
       "6 Ov4Carbopool3   resistant"
      ]
     },
     "metadata": {},
     "output_type": "display_data"
    }
   ],
   "source": [
    "# Inputting - Sample Groups\n",
    "\n",
    "sampleData <- read.delim(\"sample_IDs.csv\", header = T)\n",
    "\n",
    "sampleData <- sampleData %>% \n",
    "      separate(sample.name.group, c(\"sample.name\", \"group\"))\n",
    "\n",
    "head(sampleData)"
   ]
  },
  {
   "cell_type": "code",
   "execution_count": 10,
   "id": "6d8a5ab5",
   "metadata": {},
   "outputs": [
    {
     "name": "stderr",
     "output_type": "stream",
     "text": [
      "converting counts to integer mode\n",
      "\n"
     ]
    },
    {
     "data": {
      "text/plain": [
       "class: DESeqDataSet \n",
       "dim: 61541 6 \n",
       "metadata(1): version\n",
       "assays(1): counts\n",
       "rownames(61541): ENSG00000000003 ENSG00000000005 ... ENSG00000289643\n",
       "  ENSG00000289644\n",
       "rowData names(0):\n",
       "colnames(6): Ovcar4Parental1 Ovcar4Parental2 ... Ov4Carbopool2\n",
       "  Ov4Carbopool3\n",
       "colData names(2): sample.name group"
      ]
     },
     "metadata": {},
     "output_type": "display_data"
    }
   ],
   "source": [
    "# Creating DESeq2 object\n",
    "\n",
    "dds <- DESeqDataSetFromMatrix(countData = rawCounts,\n",
    "                              colData = sampleData,\n",
    "                              design = ~ group)\n",
    "\n",
    "dds"
   ]
  },
  {
   "cell_type": "code",
   "execution_count": 11,
   "id": "a5afe979",
   "metadata": {},
   "outputs": [],
   "source": [
    "# Filtering out low count genes - allowing 10 counts in at least 3 samples\n",
    "\n",
    "keep <- rowSums(counts(dds) >= 10) >= 3\n",
    "\n",
    "dds <- dds[keep,]"
   ]
  },
  {
   "cell_type": "code",
   "execution_count": 21,
   "id": "fd70b98c",
   "metadata": {},
   "outputs": [
    {
     "name": "stderr",
     "output_type": "stream",
     "text": [
      "using pre-existing size factors\n",
      "\n",
      "estimating dispersions\n",
      "\n",
      "found already estimated dispersions, replacing these\n",
      "\n",
      "gene-wise dispersion estimates\n",
      "\n",
      "mean-dispersion relationship\n",
      "\n",
      "final dispersion estimates\n",
      "\n",
      "fitting model and testing\n",
      "\n"
     ]
    }
   ],
   "source": [
    "# Running DESeq2 algo\n",
    "\n",
    "dds <- DESeq(dds)"
   ]
  },
  {
   "cell_type": "code",
   "execution_count": 13,
   "id": "b54ec3ec",
   "metadata": {},
   "outputs": [
    {
     "data": {
      "text/html": [
       "<table class=\"dataframe\">\n",
       "<caption>A matrix: 6 × 6 of type dbl</caption>\n",
       "<thead>\n",
       "\t<tr><th></th><th scope=col>Ovcar4Parental1</th><th scope=col>Ovcar4Parental2</th><th scope=col>Ovcar4Parental3</th><th scope=col>Ov4Carbopool1</th><th scope=col>Ov4Carbopool2</th><th scope=col>Ov4Carbopool3</th></tr>\n",
       "</thead>\n",
       "<tbody>\n",
       "\t<tr><th scope=row>ENSG00000000003</th><td> 868.5490</td><td>1010.9747</td><td> 987.0680</td><td> 908.6342</td><td> 776.0136</td><td> 881.1733</td></tr>\n",
       "\t<tr><th scope=row>ENSG00000000419</th><td>1679.9055</td><td>1569.9057</td><td>1611.2002</td><td>1748.8173</td><td>2344.5334</td><td>2164.6640</td></tr>\n",
       "\t<tr><th scope=row>ENSG00000000457</th><td> 152.1899</td><td> 139.1760</td><td> 164.3483</td><td> 191.0009</td><td> 244.7828</td><td> 188.4023</td></tr>\n",
       "\t<tr><th scope=row>ENSG00000000460</th><td> 485.6507</td><td> 602.3539</td><td> 689.6758</td><td> 442.7246</td><td> 471.3371</td><td> 553.4318</td></tr>\n",
       "\t<tr><th scope=row>ENSG00000000971</th><td> 491.4669</td><td> 950.8507</td><td> 805.1109</td><td> 228.5386</td><td> 366.3062</td><td> 877.2482</td></tr>\n",
       "\t<tr><th scope=row>ENSG00000001036</th><td>1343.5367</td><td>1475.2660</td><td>1338.2646</td><td>1055.4731</td><td>1120.6192</td><td>1533.7125</td></tr>\n",
       "</tbody>\n",
       "</table>\n"
      ],
      "text/latex": [
       "A matrix: 6 × 6 of type dbl\n",
       "\\begin{tabular}{r|llllll}\n",
       "  & Ovcar4Parental1 & Ovcar4Parental2 & Ovcar4Parental3 & Ov4Carbopool1 & Ov4Carbopool2 & Ov4Carbopool3\\\\\n",
       "\\hline\n",
       "\tENSG00000000003 &  868.5490 & 1010.9747 &  987.0680 &  908.6342 &  776.0136 &  881.1733\\\\\n",
       "\tENSG00000000419 & 1679.9055 & 1569.9057 & 1611.2002 & 1748.8173 & 2344.5334 & 2164.6640\\\\\n",
       "\tENSG00000000457 &  152.1899 &  139.1760 &  164.3483 &  191.0009 &  244.7828 &  188.4023\\\\\n",
       "\tENSG00000000460 &  485.6507 &  602.3539 &  689.6758 &  442.7246 &  471.3371 &  553.4318\\\\\n",
       "\tENSG00000000971 &  491.4669 &  950.8507 &  805.1109 &  228.5386 &  366.3062 &  877.2482\\\\\n",
       "\tENSG00000001036 & 1343.5367 & 1475.2660 & 1338.2646 & 1055.4731 & 1120.6192 & 1533.7125\\\\\n",
       "\\end{tabular}\n"
      ],
      "text/markdown": [
       "\n",
       "A matrix: 6 × 6 of type dbl\n",
       "\n",
       "| <!--/--> | Ovcar4Parental1 | Ovcar4Parental2 | Ovcar4Parental3 | Ov4Carbopool1 | Ov4Carbopool2 | Ov4Carbopool3 |\n",
       "|---|---|---|---|---|---|---|\n",
       "| ENSG00000000003 |  868.5490 | 1010.9747 |  987.0680 |  908.6342 |  776.0136 |  881.1733 |\n",
       "| ENSG00000000419 | 1679.9055 | 1569.9057 | 1611.2002 | 1748.8173 | 2344.5334 | 2164.6640 |\n",
       "| ENSG00000000457 |  152.1899 |  139.1760 |  164.3483 |  191.0009 |  244.7828 |  188.4023 |\n",
       "| ENSG00000000460 |  485.6507 |  602.3539 |  689.6758 |  442.7246 |  471.3371 |  553.4318 |\n",
       "| ENSG00000000971 |  491.4669 |  950.8507 |  805.1109 |  228.5386 |  366.3062 |  877.2482 |\n",
       "| ENSG00000001036 | 1343.5367 | 1475.2660 | 1338.2646 | 1055.4731 | 1120.6192 | 1533.7125 |\n",
       "\n"
      ],
      "text/plain": [
       "                Ovcar4Parental1 Ovcar4Parental2 Ovcar4Parental3 Ov4Carbopool1\n",
       "ENSG00000000003  868.5490       1010.9747        987.0680        908.6342    \n",
       "ENSG00000000419 1679.9055       1569.9057       1611.2002       1748.8173    \n",
       "ENSG00000000457  152.1899        139.1760        164.3483        191.0009    \n",
       "ENSG00000000460  485.6507        602.3539        689.6758        442.7246    \n",
       "ENSG00000000971  491.4669        950.8507        805.1109        228.5386    \n",
       "ENSG00000001036 1343.5367       1475.2660       1338.2646       1055.4731    \n",
       "                Ov4Carbopool2 Ov4Carbopool3\n",
       "ENSG00000000003  776.0136      881.1733    \n",
       "ENSG00000000419 2344.5334     2164.6640    \n",
       "ENSG00000000457  244.7828      188.4023    \n",
       "ENSG00000000460  471.3371      553.4318    \n",
       "ENSG00000000971  366.3062      877.2482    \n",
       "ENSG00000001036 1120.6192     1533.7125    "
      ]
     },
     "metadata": {},
     "output_type": "display_data"
    },
    {
     "data": {
      "text/html": [
       "<table class=\"dataframe\">\n",
       "<caption>A matrix: 6 × 6 of type dbl</caption>\n",
       "<thead>\n",
       "\t<tr><th></th><th scope=col>Ovcar4Parental1</th><th scope=col>Ovcar4Parental2</th><th scope=col>Ovcar4Parental3</th><th scope=col>Ov4Carbopool1</th><th scope=col>Ov4Carbopool2</th><th scope=col>Ov4Carbopool3</th></tr>\n",
       "</thead>\n",
       "<tbody>\n",
       "\t<tr><th scope=row>ENSG00000000003</th><td> 9.929855</td><td>10.126994</td><td>10.095738</td><td> 9.988132</td><td> 9.785521</td><td> 9.948465</td></tr>\n",
       "\t<tr><th scope=row>ENSG00000000419</th><td>10.804267</td><td>10.712576</td><td>10.747685</td><td>10.858869</td><td>11.260481</td><td>11.150564</td></tr>\n",
       "\t<tr><th scope=row>ENSG00000000457</th><td> 7.966106</td><td> 7.884723</td><td> 8.037823</td><td> 8.182649</td><td> 8.434630</td><td> 8.169200</td></tr>\n",
       "\t<tr><th scope=row>ENSG00000000460</th><td> 9.205757</td><td> 9.467683</td><td> 9.636318</td><td> 9.095802</td><td> 9.170033</td><td> 9.363690</td></tr>\n",
       "\t<tr><th scope=row>ENSG00000000971</th><td> 9.220019</td><td>10.047051</td><td> 9.832493</td><td> 8.363318</td><td> 8.875983</td><td> 9.942705</td></tr>\n",
       "\t<tr><th scope=row>ENSG00000001036</th><td>10.503236</td><td>10.628728</td><td>10.497979</td><td>10.183420</td><td>10.262225</td><td>10.681084</td></tr>\n",
       "</tbody>\n",
       "</table>\n"
      ],
      "text/latex": [
       "A matrix: 6 × 6 of type dbl\n",
       "\\begin{tabular}{r|llllll}\n",
       "  & Ovcar4Parental1 & Ovcar4Parental2 & Ovcar4Parental3 & Ov4Carbopool1 & Ov4Carbopool2 & Ov4Carbopool3\\\\\n",
       "\\hline\n",
       "\tENSG00000000003 &  9.929855 & 10.126994 & 10.095738 &  9.988132 &  9.785521 &  9.948465\\\\\n",
       "\tENSG00000000419 & 10.804267 & 10.712576 & 10.747685 & 10.858869 & 11.260481 & 11.150564\\\\\n",
       "\tENSG00000000457 &  7.966106 &  7.884723 &  8.037823 &  8.182649 &  8.434630 &  8.169200\\\\\n",
       "\tENSG00000000460 &  9.205757 &  9.467683 &  9.636318 &  9.095802 &  9.170033 &  9.363690\\\\\n",
       "\tENSG00000000971 &  9.220019 & 10.047051 &  9.832493 &  8.363318 &  8.875983 &  9.942705\\\\\n",
       "\tENSG00000001036 & 10.503236 & 10.628728 & 10.497979 & 10.183420 & 10.262225 & 10.681084\\\\\n",
       "\\end{tabular}\n"
      ],
      "text/markdown": [
       "\n",
       "A matrix: 6 × 6 of type dbl\n",
       "\n",
       "| <!--/--> | Ovcar4Parental1 | Ovcar4Parental2 | Ovcar4Parental3 | Ov4Carbopool1 | Ov4Carbopool2 | Ov4Carbopool3 |\n",
       "|---|---|---|---|---|---|---|\n",
       "| ENSG00000000003 |  9.929855 | 10.126994 | 10.095738 |  9.988132 |  9.785521 |  9.948465 |\n",
       "| ENSG00000000419 | 10.804267 | 10.712576 | 10.747685 | 10.858869 | 11.260481 | 11.150564 |\n",
       "| ENSG00000000457 |  7.966106 |  7.884723 |  8.037823 |  8.182649 |  8.434630 |  8.169200 |\n",
       "| ENSG00000000460 |  9.205757 |  9.467683 |  9.636318 |  9.095802 |  9.170033 |  9.363690 |\n",
       "| ENSG00000000971 |  9.220019 | 10.047051 |  9.832493 |  8.363318 |  8.875983 |  9.942705 |\n",
       "| ENSG00000001036 | 10.503236 | 10.628728 | 10.497979 | 10.183420 | 10.262225 | 10.681084 |\n",
       "\n"
      ],
      "text/plain": [
       "                Ovcar4Parental1 Ovcar4Parental2 Ovcar4Parental3 Ov4Carbopool1\n",
       "ENSG00000000003  9.929855       10.126994       10.095738        9.988132    \n",
       "ENSG00000000419 10.804267       10.712576       10.747685       10.858869    \n",
       "ENSG00000000457  7.966106        7.884723        8.037823        8.182649    \n",
       "ENSG00000000460  9.205757        9.467683        9.636318        9.095802    \n",
       "ENSG00000000971  9.220019       10.047051        9.832493        8.363318    \n",
       "ENSG00000001036 10.503236       10.628728       10.497979       10.183420    \n",
       "                Ov4Carbopool2 Ov4Carbopool3\n",
       "ENSG00000000003  9.785521      9.948465    \n",
       "ENSG00000000419 11.260481     11.150564    \n",
       "ENSG00000000457  8.434630      8.169200    \n",
       "ENSG00000000460  9.170033      9.363690    \n",
       "ENSG00000000971  8.875983      9.942705    \n",
       "ENSG00000001036 10.262225     10.681084    "
      ]
     },
     "metadata": {},
     "output_type": "display_data"
    }
   ],
   "source": [
    "# Using unsupervised clustering to see the relationship among two groups\n",
    "\n",
    "# Data normalization\n",
    "\n",
    "norm.counts <- counts(dds, normalized=TRUE)\n",
    "\n",
    "write.csv(norm.counts, file=\"normalized_counts.txt\", row.names=TRUE)\n",
    "\n",
    "head(norm.counts)\n",
    "\n",
    "# Data transformation (using variance stabilizing transformations (VST) which produces transformed data on the log2 scale, \n",
    "# normalized with respect to library size)\n",
    "\n",
    "vsd <- vst(dds, blind=FALSE)\n",
    "\n",
    "head(assay(vsd))"
   ]
  },
  {
   "cell_type": "code",
   "execution_count": 14,
   "id": "518a839f",
   "metadata": {},
   "outputs": [
    {
     "data": {
      "image/png": "[encoded data removed]",
      "text/plain": [
       "Plot with title \"Cluster Dendrogram\""
      ]
     },
     "metadata": {
      "image/png": {
       "height": 420,
       "width": 420
      }
     },
     "output_type": "display_data"
    }
   ],
   "source": [
    "# Hierarchical clustering (dendrogram)\n",
    "\n",
    "sampleDists <- dist(t(assay(vsd)))\n",
    "plot(hclust(sampleDists, method = \"complete\"))"
   ]
  },
  {
   "cell_type": "code",
   "execution_count": 15,
   "id": "d07fb344",
   "metadata": {},
   "outputs": [
    {
     "data": {
      "image/png": "[encoded data removed]",
      "text/plain": [
       "plot without title"
      ]
     },
     "metadata": {
      "image/png": {
       "height": 420,
       "width": 420
      }
     },
     "output_type": "display_data"
    }
   ],
   "source": [
    "# PCA\n",
    "\n",
    "plotPCA(vsd, intgroup=c(\"group\"))"
   ]
  },
  {
   "cell_type": "markdown",
   "id": "46a1567a",
   "metadata": {},
   "source": [
    "Clear separation between two groups"
   ]
  },
  {
   "cell_type": "code",
   "execution_count": 16,
   "id": "89437773",
   "metadata": {},
   "outputs": [
    {
     "name": "stdout",
     "output_type": "stream",
     "text": [
      "\n",
      "out of 15495 with nonzero total read count\n",
      "adjusted p-value < 0.1\n",
      "LFC > 0 (up)       : 2244, 14%\n",
      "LFC < 0 (down)     : 2024, 13%\n",
      "outliers [1]       : 7, 0.045%\n",
      "low counts [2]     : 0, 0%\n",
      "(mean count < 6)\n",
      "[1] see 'cooksCutoff' argument of ?results\n",
      "[2] see 'independentFiltering' argument of ?results\n",
      "\n"
     ]
    }
   ],
   "source": [
    "# Getting the results of differential expression analysis\n",
    "res <- results(dds, contrast=c(\"group\", \"sensitive\", \"resistant\"))\n",
    "\n",
    "# Viewing summary of results\n",
    "\n",
    "summary(res)\n",
    "#head(res)\n",
    "#mcols(res)$description"
   ]
  },
  {
   "cell_type": "code",
   "execution_count": 17,
   "id": "0d6dea1e",
   "metadata": {},
   "outputs": [
    {
     "data": {
      "image/png": "[encoded data removed]",
      "text/plain": [
       "plot without title"
      ]
     },
     "metadata": {
      "image/png": {
       "height": 420,
       "width": 420
      }
     },
     "output_type": "display_data"
    }
   ],
   "source": [
    "# Diagnostics - observing how well the data has been captured by the model (plotting Dispersion Estimates)\n",
    "\n",
    "plotDispEsts(dds)"
   ]
  },
  {
   "cell_type": "code",
   "execution_count": 18,
   "id": "5713468c",
   "metadata": {},
   "outputs": [
    {
     "data": {
      "image/png": "[encoded data removed]",
      "text/plain": [
       "Plot with title \"\""
      ]
     },
     "metadata": {
      "image/png": {
       "height": 420,
       "width": 420
      }
     },
     "output_type": "display_data"
    }
   ],
   "source": [
    "# Graphical Visualizations of the DE genes – MA plot (shows the log2 fold changes of the genes (each dot is a gene) \n",
    "# over the mean of normalized counts for all samples in my data)\n",
    "\n",
    "plotMA(res)"
   ]
  },
  {
   "cell_type": "markdown",
   "id": "3644a883",
   "metadata": {},
   "source": [
    "Positive log2 fold changes values represent upregulated genes in sensitive compared to resistant group \n",
    "Negative log2 fold changes values represent dowregulated genes in sensitive compared to resistant group "
   ]
  },
  {
   "cell_type": "code",
   "execution_count": 19,
   "id": "13ec3b7a",
   "metadata": {},
   "outputs": [
    {
     "data": {
      "image/png": "[encoded data removed]",
      "text/plain": [
       "plot without title"
      ]
     },
     "metadata": {
      "image/png": {
       "height": 420,
       "width": 420
      }
     },
     "output_type": "display_data"
    }
   ],
   "source": [
    "# Graphical Visualizations of the differentially expressed genes, subseting the DE genes with padj < 0.05 and log2FC > |1| i.e. \n",
    "# at least two-fold change in expression\n",
    "\n",
    "library(pheatmap)\n",
    "\n",
    "de.sign <- subset(res, padj < 0.05 & abs(log2FoldChange) >1 )\n",
    "\n",
    "de.sign.genes <- rownames(de.sign)\n",
    "\n",
    "scale.dat <- t(scale(t(assay(vsd)[de.sign.genes,])))\n",
    "\n",
    "pheatmap(scale.dat[de.sign.genes,], cluster_rows=TRUE, show_rownames=FALSE, cluster_cols=TRUE)\n"
   ]
  },
  {
   "cell_type": "code",
   "execution_count": 30,
   "id": "81abc684",
   "metadata": {},
   "outputs": [
    {
     "name": "stderr",
     "output_type": "stream",
     "text": [
      "'getOption(\"repos\")' replaces Bioconductor standard repositories, see\n",
      "'?repositories' for details\n",
      "\n",
      "replacement repositories:\n",
      "    CRAN: https://cran.r-project.org\n",
      "\n",
      "\n",
      "Bioconductor version 3.15 (BiocManager 1.30.19), R 4.2.1 (2022-06-23 ucrt)\n",
      "\n",
      "Old packages: 'bookdown', 'broom', 'bslib', 'cli', 'digest', 'doRNG',\n",
      "  'evaluate', 'formatR', 'highr', 'htmlwidgets', 'httpuv', 'isoband',\n",
      "  'maptools', 'nlme', 'purrr', 'rmarkdown', 'RSQLite', 'shiny', 'tidytree',\n",
      "  'tinytex', 'vctrs', 'xfun', 'yulab.utils'\n",
      "\n",
      "'select()' returned 1:many mapping between keys and columns\n",
      "\n"
     ]
    },
    {
     "data": {
      "text/html": [
       "<table class=\"dataframe\">\n",
       "<caption>A data.frame: 6 × 7</caption>\n",
       "<thead>\n",
       "\t<tr><th></th><th scope=col>baseMean</th><th scope=col>log2FoldChange</th><th scope=col>lfcSE</th><th scope=col>stat</th><th scope=col>pvalue</th><th scope=col>padj</th><th scope=col>gene.symbol</th></tr>\n",
       "\t<tr><th></th><th scope=col>&lt;dbl&gt;</th><th scope=col>&lt;dbl&gt;</th><th scope=col>&lt;dbl&gt;</th><th scope=col>&lt;dbl&gt;</th><th scope=col>&lt;dbl&gt;</th><th scope=col>&lt;dbl&gt;</th><th scope=col>&lt;chr&gt;</th></tr>\n",
       "</thead>\n",
       "<tbody>\n",
       "\t<tr><th scope=row>ENSG00000000003</th><td> 905.4021</td><td> 0.1602191</td><td>0.1636002</td><td> 0.9793336</td><td>0.32741517</td><td>0.5368985</td><td>TSPAN6  </td></tr>\n",
       "\t<tr><th scope=row>ENSG00000000419</th><td>1853.1710</td><td>-0.3647585</td><td>0.1704552</td><td>-2.1399081</td><td>0.03236219</td><td>0.1119807</td><td>DPM1    </td></tr>\n",
       "\t<tr><th scope=row>ENSG00000000457</th><td> 179.9834</td><td>-0.4548143</td><td>0.2299656</td><td>-1.9777490</td><td>0.04795703</td><td>0.1488792</td><td>SCYL3   </td></tr>\n",
       "\t<tr><th scope=row>ENSG00000000460</th><td> 540.8623</td><td> 0.2763033</td><td>0.2061613</td><td> 1.3402284</td><td>0.18017112</td><td>0.3695566</td><td>C1orf112</td></tr>\n",
       "\t<tr><th scope=row>ENSG00000000971</th><td> 619.9203</td><td> 0.6099314</td><td>0.4227484</td><td> 1.4427763</td><td>0.14908348</td><td>0.3263940</td><td>CFH     </td></tr>\n",
       "\t<tr><th scope=row>ENSG00000001036</th><td>1311.1453</td><td> 0.1640071</td><td>0.1954976</td><td> 0.8389214</td><td>0.40151344</td><td>0.6102762</td><td>FUCA2   </td></tr>\n",
       "</tbody>\n",
       "</table>\n"
      ],
      "text/latex": [
       "A data.frame: 6 × 7\n",
       "\\begin{tabular}{r|lllllll}\n",
       "  & baseMean & log2FoldChange & lfcSE & stat & pvalue & padj & gene.symbol\\\\\n",
       "  & <dbl> & <dbl> & <dbl> & <dbl> & <dbl> & <dbl> & <chr>\\\\\n",
       "\\hline\n",
       "\tENSG00000000003 &  905.4021 &  0.1602191 & 0.1636002 &  0.9793336 & 0.32741517 & 0.5368985 & TSPAN6  \\\\\n",
       "\tENSG00000000419 & 1853.1710 & -0.3647585 & 0.1704552 & -2.1399081 & 0.03236219 & 0.1119807 & DPM1    \\\\\n",
       "\tENSG00000000457 &  179.9834 & -0.4548143 & 0.2299656 & -1.9777490 & 0.04795703 & 0.1488792 & SCYL3   \\\\\n",
       "\tENSG00000000460 &  540.8623 &  0.2763033 & 0.2061613 &  1.3402284 & 0.18017112 & 0.3695566 & C1orf112\\\\\n",
       "\tENSG00000000971 &  619.9203 &  0.6099314 & 0.4227484 &  1.4427763 & 0.14908348 & 0.3263940 & CFH     \\\\\n",
       "\tENSG00000001036 & 1311.1453 &  0.1640071 & 0.1954976 &  0.8389214 & 0.40151344 & 0.6102762 & FUCA2   \\\\\n",
       "\\end{tabular}\n"
      ],
      "text/markdown": [
       "\n",
       "A data.frame: 6 × 7\n",
       "\n",
       "| <!--/--> | baseMean &lt;dbl&gt; | log2FoldChange &lt;dbl&gt; | lfcSE &lt;dbl&gt; | stat &lt;dbl&gt; | pvalue &lt;dbl&gt; | padj &lt;dbl&gt; | gene.symbol &lt;chr&gt; |\n",
       "|---|---|---|---|---|---|---|---|\n",
       "| ENSG00000000003 |  905.4021 |  0.1602191 | 0.1636002 |  0.9793336 | 0.32741517 | 0.5368985 | TSPAN6   |\n",
       "| ENSG00000000419 | 1853.1710 | -0.3647585 | 0.1704552 | -2.1399081 | 0.03236219 | 0.1119807 | DPM1     |\n",
       "| ENSG00000000457 |  179.9834 | -0.4548143 | 0.2299656 | -1.9777490 | 0.04795703 | 0.1488792 | SCYL3    |\n",
       "| ENSG00000000460 |  540.8623 |  0.2763033 | 0.2061613 |  1.3402284 | 0.18017112 | 0.3695566 | C1orf112 |\n",
       "| ENSG00000000971 |  619.9203 |  0.6099314 | 0.4227484 |  1.4427763 | 0.14908348 | 0.3263940 | CFH      |\n",
       "| ENSG00000001036 | 1311.1453 |  0.1640071 | 0.1954976 |  0.8389214 | 0.40151344 | 0.6102762 | FUCA2    |\n",
       "\n"
      ],
      "text/plain": [
       "                baseMean  log2FoldChange lfcSE     stat       pvalue    \n",
       "ENSG00000000003  905.4021  0.1602191     0.1636002  0.9793336 0.32741517\n",
       "ENSG00000000419 1853.1710 -0.3647585     0.1704552 -2.1399081 0.03236219\n",
       "ENSG00000000457  179.9834 -0.4548143     0.2299656 -1.9777490 0.04795703\n",
       "ENSG00000000460  540.8623  0.2763033     0.2061613  1.3402284 0.18017112\n",
       "ENSG00000000971  619.9203  0.6099314     0.4227484  1.4427763 0.14908348\n",
       "ENSG00000001036 1311.1453  0.1640071     0.1954976  0.8389214 0.40151344\n",
       "                padj      gene.symbol\n",
       "ENSG00000000003 0.5368985 TSPAN6     \n",
       "ENSG00000000419 0.1119807 DPM1       \n",
       "ENSG00000000457 0.1488792 SCYL3      \n",
       "ENSG00000000460 0.3695566 C1orf112   \n",
       "ENSG00000000971 0.3263940 CFH        \n",
       "ENSG00000001036 0.6102762 FUCA2      "
      ]
     },
     "metadata": {},
     "output_type": "display_data"
    }
   ],
   "source": [
    "# Annotation of output tables \n",
    "\n",
    "BiocManager::install('AnnotationDbi')\n",
    "library(AnnotationDbi)\n",
    "library(org.Hs.eg.db)\n",
    "\n",
    "\n",
    "res.df <- as.data.frame(res)\n",
    "\n",
    "res.annot <- mapIds(org.Hs.eg.db, keys = rownames(res.df), keytype = \"ENSEMBL\", column = \"SYMBOL\")\n",
    "\n",
    "res.df.annot <- cbind(res.df,gene.symbol = res.annot) #binding the annotations to the sign.df\n",
    "\n",
    "head(res.df.annot)\n",
    "\n",
    "write.csv(res.df.annot, file = \"DE_sensitiveVSresistant_results_wGeneSymbol.csv\")\n"
   ]
  },
  {
   "cell_type": "code",
   "execution_count": 31,
   "id": "514b75fb",
   "metadata": {},
   "outputs": [
    {
     "data": {
      "text/html": [
       "<pre class=language-r><code>function (expr) \n",
       "{\n",
       "<span style=white-space:pre-wrap>    enexpr(expr)</span>\n",
       "}</code></pre>"
      ],
      "text/latex": [
       "\\begin{minted}{r}\n",
       "function (expr) \n",
       "\\{\n",
       "    enexpr(expr)\n",
       "\\}\n",
       "\\end{minted}"
      ],
      "text/markdown": [
       "```r\n",
       "function (expr) \n",
       "{\n",
       "    enexpr(expr)\n",
       "}\n",
       "```"
      ],
      "text/plain": [
       "function (expr) \n",
       "{\n",
       "    enexpr(expr)\n",
       "}\n",
       "<bytecode: 0x000002324c344008>\n",
       "<environment: namespace:rlang>"
      ]
     },
     "metadata": {},
     "output_type": "display_data"
    },
    {
     "name": "stderr",
     "output_type": "stream",
     "text": [
      "'getOption(\"repos\")' replaces Bioconductor standard repositories, see\n",
      "'?repositories' for details\n",
      "\n",
      "replacement repositories:\n",
      "    CRAN: https://cran.r-project.org\n",
      "\n",
      "\n",
      "Bioconductor version 3.15 (BiocManager 1.30.19), R 4.2.1 (2022-06-23 ucrt)\n",
      "\n",
      "Old packages: 'bookdown', 'broom', 'bslib', 'cli', 'digest', 'doRNG',\n",
      "  'evaluate', 'formatR', 'highr', 'htmlwidgets', 'httpuv', 'isoband',\n",
      "  'maptools', 'nlme', 'purrr', 'rmarkdown', 'RSQLite', 'shiny', 'tidytree',\n",
      "  'tinytex', 'vctrs', 'xfun', 'yulab.utils'\n",
      "\n"
     ]
    },
    {
     "data": {
      "image/png": "[encoded data removed]",
      "text/plain": [
       "plot without title"
      ]
     },
     "metadata": {
      "image/png": {
       "height": 420,
       "width": 420
      }
     },
     "output_type": "display_data"
    }
   ],
   "source": [
    "# Using volcano plot to visualize the Log2Fold changes of all genes (again each dot represents a gene) plotted against \n",
    "# the -Log10 Adjusted pvalue.\n",
    "\n",
    "suppressPackageStartupMessages(expr)\n",
    "\n",
    "BiocManager::install('EnhancedVolcano')\n",
    "library(EnhancedVolcano)\n",
    "\n",
    "\n",
    "EnhancedVolcano(res.df.annot,\n",
    "    lab = res.df.annot$gene.symbol,\n",
    "    x = 'log2FoldChange',\n",
    "    y = 'padj')\n"
   ]
  },
  {
   "cell_type": "markdown",
   "id": "a891723d",
   "metadata": {},
   "source": [
    "In red are genes with padj < 0.05 and log2fold change more or less than 1. \n",
    "They are either differently upregulated (right) or downregulated (left) in sensitive samples compare to resistant."
   ]
  },
  {
   "cell_type": "markdown",
   "id": "9dcedf73",
   "metadata": {},
   "source": [
    "# Gene set enrichment analysis"
   ]
  },
  {
   "cell_type": "code",
   "execution_count": 28,
   "id": "b1f1d569",
   "metadata": {},
   "outputs": [
    {
     "data": {
      "text/html": [
       "<pre class=language-r><code>function (expr) \n",
       "{\n",
       "<span style=white-space:pre-wrap>    enexpr(expr)</span>\n",
       "}</code></pre>"
      ],
      "text/latex": [
       "\\begin{minted}{r}\n",
       "function (expr) \n",
       "\\{\n",
       "    enexpr(expr)\n",
       "\\}\n",
       "\\end{minted}"
      ],
      "text/markdown": [
       "```r\n",
       "function (expr) \n",
       "{\n",
       "    enexpr(expr)\n",
       "}\n",
       "```"
      ],
      "text/plain": [
       "function (expr) \n",
       "{\n",
       "    enexpr(expr)\n",
       "}\n",
       "<bytecode: 0x000002324c344008>\n",
       "<environment: namespace:rlang>"
      ]
     },
     "metadata": {},
     "output_type": "display_data"
    }
   ],
   "source": [
    "# Performing Pre-Ranked Gene Set Enrichment Analysis (GSEA Pre-Ranked) to understand better what biological processes \n",
    "# and pathways are affected \n",
    "suppressPackageStartupMessages(expr)\n",
    "\n",
    "library(fgsea)\n",
    "\n",
    "library(data.table)\n",
    "\n",
    "library(ggplot2)\n",
    "\n",
    "library(qusage)"
   ]
  },
  {
   "cell_type": "code",
   "execution_count": 33,
   "id": "b5fe3e42",
   "metadata": {},
   "outputs": [
    {
     "data": {
      "text/html": [
       "<table class=\"dataframe\">\n",
       "<caption>A data.frame: 6 × 7</caption>\n",
       "<thead>\n",
       "\t<tr><th></th><th scope=col>baseMean</th><th scope=col>log2FoldChange</th><th scope=col>lfcSE</th><th scope=col>stat</th><th scope=col>pvalue</th><th scope=col>padj</th><th scope=col>gene.symbol</th></tr>\n",
       "\t<tr><th></th><th scope=col>&lt;dbl&gt;</th><th scope=col>&lt;dbl&gt;</th><th scope=col>&lt;dbl&gt;</th><th scope=col>&lt;dbl&gt;</th><th scope=col>&lt;dbl&gt;</th><th scope=col>&lt;dbl&gt;</th><th scope=col>&lt;chr&gt;</th></tr>\n",
       "</thead>\n",
       "<tbody>\n",
       "\t<tr><th scope=row>ENSG00000000003</th><td> 905.4021</td><td> 0.1602191</td><td>0.1636002</td><td> 0.9793336</td><td>0.32741517</td><td>0.5368985</td><td>TSPAN6  </td></tr>\n",
       "\t<tr><th scope=row>ENSG00000000419</th><td>1853.1710</td><td>-0.3647585</td><td>0.1704552</td><td>-2.1399081</td><td>0.03236219</td><td>0.1119807</td><td>DPM1    </td></tr>\n",
       "\t<tr><th scope=row>ENSG00000000457</th><td> 179.9834</td><td>-0.4548143</td><td>0.2299656</td><td>-1.9777490</td><td>0.04795703</td><td>0.1488792</td><td>SCYL3   </td></tr>\n",
       "\t<tr><th scope=row>ENSG00000000460</th><td> 540.8623</td><td> 0.2763033</td><td>0.2061613</td><td> 1.3402284</td><td>0.18017112</td><td>0.3695566</td><td>C1orf112</td></tr>\n",
       "\t<tr><th scope=row>ENSG00000000971</th><td> 619.9203</td><td> 0.6099314</td><td>0.4227484</td><td> 1.4427763</td><td>0.14908348</td><td>0.3263940</td><td>CFH     </td></tr>\n",
       "\t<tr><th scope=row>ENSG00000001036</th><td>1311.1453</td><td> 0.1640071</td><td>0.1954976</td><td> 0.8389214</td><td>0.40151344</td><td>0.6102762</td><td>FUCA2   </td></tr>\n",
       "</tbody>\n",
       "</table>\n"
      ],
      "text/latex": [
       "A data.frame: 6 × 7\n",
       "\\begin{tabular}{r|lllllll}\n",
       "  & baseMean & log2FoldChange & lfcSE & stat & pvalue & padj & gene.symbol\\\\\n",
       "  & <dbl> & <dbl> & <dbl> & <dbl> & <dbl> & <dbl> & <chr>\\\\\n",
       "\\hline\n",
       "\tENSG00000000003 &  905.4021 &  0.1602191 & 0.1636002 &  0.9793336 & 0.32741517 & 0.5368985 & TSPAN6  \\\\\n",
       "\tENSG00000000419 & 1853.1710 & -0.3647585 & 0.1704552 & -2.1399081 & 0.03236219 & 0.1119807 & DPM1    \\\\\n",
       "\tENSG00000000457 &  179.9834 & -0.4548143 & 0.2299656 & -1.9777490 & 0.04795703 & 0.1488792 & SCYL3   \\\\\n",
       "\tENSG00000000460 &  540.8623 &  0.2763033 & 0.2061613 &  1.3402284 & 0.18017112 & 0.3695566 & C1orf112\\\\\n",
       "\tENSG00000000971 &  619.9203 &  0.6099314 & 0.4227484 &  1.4427763 & 0.14908348 & 0.3263940 & CFH     \\\\\n",
       "\tENSG00000001036 & 1311.1453 &  0.1640071 & 0.1954976 &  0.8389214 & 0.40151344 & 0.6102762 & FUCA2   \\\\\n",
       "\\end{tabular}\n"
      ],
      "text/markdown": [
       "\n",
       "A data.frame: 6 × 7\n",
       "\n",
       "| <!--/--> | baseMean &lt;dbl&gt; | log2FoldChange &lt;dbl&gt; | lfcSE &lt;dbl&gt; | stat &lt;dbl&gt; | pvalue &lt;dbl&gt; | padj &lt;dbl&gt; | gene.symbol &lt;chr&gt; |\n",
       "|---|---|---|---|---|---|---|---|\n",
       "| ENSG00000000003 |  905.4021 |  0.1602191 | 0.1636002 |  0.9793336 | 0.32741517 | 0.5368985 | TSPAN6   |\n",
       "| ENSG00000000419 | 1853.1710 | -0.3647585 | 0.1704552 | -2.1399081 | 0.03236219 | 0.1119807 | DPM1     |\n",
       "| ENSG00000000457 |  179.9834 | -0.4548143 | 0.2299656 | -1.9777490 | 0.04795703 | 0.1488792 | SCYL3    |\n",
       "| ENSG00000000460 |  540.8623 |  0.2763033 | 0.2061613 |  1.3402284 | 0.18017112 | 0.3695566 | C1orf112 |\n",
       "| ENSG00000000971 |  619.9203 |  0.6099314 | 0.4227484 |  1.4427763 | 0.14908348 | 0.3263940 | CFH      |\n",
       "| ENSG00000001036 | 1311.1453 |  0.1640071 | 0.1954976 |  0.8389214 | 0.40151344 | 0.6102762 | FUCA2    |\n",
       "\n"
      ],
      "text/plain": [
       "                baseMean  log2FoldChange lfcSE     stat       pvalue    \n",
       "ENSG00000000003  905.4021  0.1602191     0.1636002  0.9793336 0.32741517\n",
       "ENSG00000000419 1853.1710 -0.3647585     0.1704552 -2.1399081 0.03236219\n",
       "ENSG00000000457  179.9834 -0.4548143     0.2299656 -1.9777490 0.04795703\n",
       "ENSG00000000460  540.8623  0.2763033     0.2061613  1.3402284 0.18017112\n",
       "ENSG00000000971  619.9203  0.6099314     0.4227484  1.4427763 0.14908348\n",
       "ENSG00000001036 1311.1453  0.1640071     0.1954976  0.8389214 0.40151344\n",
       "                padj      gene.symbol\n",
       "ENSG00000000003 0.5368985 TSPAN6     \n",
       "ENSG00000000419 0.1119807 DPM1       \n",
       "ENSG00000000457 0.1488792 SCYL3      \n",
       "ENSG00000000460 0.3695566 C1orf112   \n",
       "ENSG00000000971 0.3263940 CFH        \n",
       "ENSG00000001036 0.6102762 FUCA2      "
      ]
     },
     "metadata": {},
     "output_type": "display_data"
    }
   ],
   "source": [
    "# Loading DE results\n",
    "\n",
    "DE.res <- read.csv(\"DE_sensitiveVSresistant_results_wGeneSymbol.csv\", header = TRUE, row.names = 1)\n",
    "head(DE.res)"
   ]
  },
  {
   "cell_type": "code",
   "execution_count": 34,
   "id": "54114308",
   "metadata": {},
   "outputs": [],
   "source": [
    "# Loading the Gene Ontology Collection\n",
    "\n",
    "gmt.file <- read.gmt(\"c5.go.bp.v7.4.symbols.gmt\")"
   ]
  },
  {
   "cell_type": "code",
   "execution_count": 35,
   "id": "a24b40ff",
   "metadata": {},
   "outputs": [],
   "source": [
    "# Ranking DE results by decreasing Log2 Fold-change and then creating a named vector of the log2 fold changes \n",
    "# with the names being the gene symbols.\n",
    "\n",
    "DE.res.ranked <- DE.res[order(DE.res$log2FoldChange, decreasing = T), ]\n",
    "\n",
    "DE.ranks <- setNames(DE.res.ranked$log2FoldChange, DE.res.ranked$gene.symbol)"
   ]
  },
  {
   "cell_type": "code",
   "execution_count": 36,
   "id": "55f63931",
   "metadata": {},
   "outputs": [
    {
     "data": {
      "text/html": [
       "<table class=\"dataframe\">\n",
       "<caption>A data.table: 6 × 8</caption>\n",
       "<thead>\n",
       "\t<tr><th scope=col>pathway</th><th scope=col>pval</th><th scope=col>padj</th><th scope=col>log2err</th><th scope=col>ES</th><th scope=col>NES</th><th scope=col>size</th><th scope=col>leadingEdge</th></tr>\n",
       "\t<tr><th scope=col>&lt;chr&gt;</th><th scope=col>&lt;dbl&gt;</th><th scope=col>&lt;dbl&gt;</th><th scope=col>&lt;dbl&gt;</th><th scope=col>&lt;dbl&gt;</th><th scope=col>&lt;dbl&gt;</th><th scope=col>&lt;int&gt;</th><th scope=col>&lt;list&gt;</th></tr>\n",
       "</thead>\n",
       "<tbody>\n",
       "\t<tr><td>GOBP_2_OXOGLUTARATE_METABOLIC_PROCESS                     </td><td>0.9197761</td><td>1.0000000</td><td>0.04632278</td><td> 0.2515517</td><td> 0.6027168</td><td>15</td><td>IDH2  , OGDH  , ADHFE1, DLD   , DLST  , L2HGDH</td></tr>\n",
       "\t<tr><td>GOBP_3_PHOSPHOADENOSINE_5_PHOSPHOSULFATE_METABOLIC_PROCESS</td><td>0.1065217</td><td>0.3215889</td><td>0.20207171</td><td>-0.5132048</td><td>-1.3644322</td><td>18</td><td>SULT1C2, SULT4A1, SLC26A1, SULT1A3, SULT1A1, SULT1A4, ENPP1  </td></tr>\n",
       "\t<tr><td>GOBP_3_UTR_MEDIATED_MRNA_DESTABILIZATION                  </td><td>0.9347015</td><td>1.0000000</td><td>0.04558782</td><td> 0.2414299</td><td> 0.5784649</td><td>15</td><td>UPF1   , ZFP36L1, ZFP36  , ZC3H12A, ZFP36L2, KHSRP  , TARDBP </td></tr>\n",
       "\t<tr><td>GOBP_3_UTR_MEDIATED_MRNA_STABILIZATION                    </td><td>0.7495362</td><td>0.9364455</td><td>0.05547933</td><td> 0.3181787</td><td> 0.7697295</td><td>17</td><td>MYD88   , MAPKAPK2, ZFP36   , TENT4B  , ELAVL1  , HNRNPA0 , TARDBP  , MAPK14  </td></tr>\n",
       "\t<tr><td>GOBP_ACETYL_COA_BIOSYNTHETIC_PROCESS                      </td><td>0.9317774</td><td>1.0000000</td><td>0.04397593</td><td> 0.2322499</td><td> 0.5972675</td><td>21</td><td>PDP1 , ACSS1, PDK3 , DIP2A, DLD  , PDPR </td></tr>\n",
       "\t<tr><td>GOBP_ACETYL_COA_METABOLIC_PROCESS                         </td><td>0.9002320</td><td>1.0000000</td><td>0.05736674</td><td>-0.2322340</td><td>-0.7003968</td><td>31</td><td>NUDT7, PDK4 </td></tr>\n",
       "</tbody>\n",
       "</table>\n"
      ],
      "text/latex": [
       "A data.table: 6 × 8\n",
       "\\begin{tabular}{llllllll}\n",
       " pathway & pval & padj & log2err & ES & NES & size & leadingEdge\\\\\n",
       " <chr> & <dbl> & <dbl> & <dbl> & <dbl> & <dbl> & <int> & <list>\\\\\n",
       "\\hline\n",
       "\t GOBP\\_2\\_OXOGLUTARATE\\_METABOLIC\\_PROCESS                      & 0.9197761 & 1.0000000 & 0.04632278 &  0.2515517 &  0.6027168 & 15 & IDH2  , OGDH  , ADHFE1, DLD   , DLST  , L2HGDH\\\\\n",
       "\t GOBP\\_3\\_PHOSPHOADENOSINE\\_5\\_PHOSPHOSULFATE\\_METABOLIC\\_PROCESS & 0.1065217 & 0.3215889 & 0.20207171 & -0.5132048 & -1.3644322 & 18 & SULT1C2, SULT4A1, SLC26A1, SULT1A3, SULT1A1, SULT1A4, ENPP1  \\\\\n",
       "\t GOBP\\_3\\_UTR\\_MEDIATED\\_MRNA\\_DESTABILIZATION                   & 0.9347015 & 1.0000000 & 0.04558782 &  0.2414299 &  0.5784649 & 15 & UPF1   , ZFP36L1, ZFP36  , ZC3H12A, ZFP36L2, KHSRP  , TARDBP \\\\\n",
       "\t GOBP\\_3\\_UTR\\_MEDIATED\\_MRNA\\_STABILIZATION                     & 0.7495362 & 0.9364455 & 0.05547933 &  0.3181787 &  0.7697295 & 17 & MYD88   , MAPKAPK2, ZFP36   , TENT4B  , ELAVL1  , HNRNPA0 , TARDBP  , MAPK14  \\\\\n",
       "\t GOBP\\_ACETYL\\_COA\\_BIOSYNTHETIC\\_PROCESS                       & 0.9317774 & 1.0000000 & 0.04397593 &  0.2322499 &  0.5972675 & 21 & PDP1 , ACSS1, PDK3 , DIP2A, DLD  , PDPR \\\\\n",
       "\t GOBP\\_ACETYL\\_COA\\_METABOLIC\\_PROCESS                          & 0.9002320 & 1.0000000 & 0.05736674 & -0.2322340 & -0.7003968 & 31 & NUDT7, PDK4 \\\\\n",
       "\\end{tabular}\n"
      ],
      "text/markdown": [
       "\n",
       "A data.table: 6 × 8\n",
       "\n",
       "| pathway &lt;chr&gt; | pval &lt;dbl&gt; | padj &lt;dbl&gt; | log2err &lt;dbl&gt; | ES &lt;dbl&gt; | NES &lt;dbl&gt; | size &lt;int&gt; | leadingEdge &lt;list&gt; |\n",
       "|---|---|---|---|---|---|---|---|\n",
       "| GOBP_2_OXOGLUTARATE_METABOLIC_PROCESS                      | 0.9197761 | 1.0000000 | 0.04632278 |  0.2515517 |  0.6027168 | 15 | IDH2  , OGDH  , ADHFE1, DLD   , DLST  , L2HGDH |\n",
       "| GOBP_3_PHOSPHOADENOSINE_5_PHOSPHOSULFATE_METABOLIC_PROCESS | 0.1065217 | 0.3215889 | 0.20207171 | -0.5132048 | -1.3644322 | 18 | SULT1C2, SULT4A1, SLC26A1, SULT1A3, SULT1A1, SULT1A4, ENPP1   |\n",
       "| GOBP_3_UTR_MEDIATED_MRNA_DESTABILIZATION                   | 0.9347015 | 1.0000000 | 0.04558782 |  0.2414299 |  0.5784649 | 15 | UPF1   , ZFP36L1, ZFP36  , ZC3H12A, ZFP36L2, KHSRP  , TARDBP  |\n",
       "| GOBP_3_UTR_MEDIATED_MRNA_STABILIZATION                     | 0.7495362 | 0.9364455 | 0.05547933 |  0.3181787 |  0.7697295 | 17 | MYD88   , MAPKAPK2, ZFP36   , TENT4B  , ELAVL1  , HNRNPA0 , TARDBP  , MAPK14   |\n",
       "| GOBP_ACETYL_COA_BIOSYNTHETIC_PROCESS                       | 0.9317774 | 1.0000000 | 0.04397593 |  0.2322499 |  0.5972675 | 21 | PDP1 , ACSS1, PDK3 , DIP2A, DLD  , PDPR  |\n",
       "| GOBP_ACETYL_COA_METABOLIC_PROCESS                          | 0.9002320 | 1.0000000 | 0.05736674 | -0.2322340 | -0.7003968 | 31 | NUDT7, PDK4  |\n",
       "\n"
      ],
      "text/plain": [
       "  pathway                                                    pval     \n",
       "1 GOBP_2_OXOGLUTARATE_METABOLIC_PROCESS                      0.9197761\n",
       "2 GOBP_3_PHOSPHOADENOSINE_5_PHOSPHOSULFATE_METABOLIC_PROCESS 0.1065217\n",
       "3 GOBP_3_UTR_MEDIATED_MRNA_DESTABILIZATION                   0.9347015\n",
       "4 GOBP_3_UTR_MEDIATED_MRNA_STABILIZATION                     0.7495362\n",
       "5 GOBP_ACETYL_COA_BIOSYNTHETIC_PROCESS                       0.9317774\n",
       "6 GOBP_ACETYL_COA_METABOLIC_PROCESS                          0.9002320\n",
       "  padj      log2err    ES         NES        size\n",
       "1 1.0000000 0.04632278  0.2515517  0.6027168 15  \n",
       "2 0.3215889 0.20207171 -0.5132048 -1.3644322 18  \n",
       "3 1.0000000 0.04558782  0.2414299  0.5784649 15  \n",
       "4 0.9364455 0.05547933  0.3181787  0.7697295 17  \n",
       "5 1.0000000 0.04397593  0.2322499  0.5972675 21  \n",
       "6 1.0000000 0.05736674 -0.2322340 -0.7003968 31  \n",
       "  leadingEdge                                                                   \n",
       "1 IDH2  , OGDH  , ADHFE1, DLD   , DLST  , L2HGDH                                \n",
       "2 SULT1C2, SULT4A1, SLC26A1, SULT1A3, SULT1A1, SULT1A4, ENPP1                   \n",
       "3 UPF1   , ZFP36L1, ZFP36  , ZC3H12A, ZFP36L2, KHSRP  , TARDBP                  \n",
       "4 MYD88   , MAPKAPK2, ZFP36   , TENT4B  , ELAVL1  , HNRNPA0 , TARDBP  , MAPK14  \n",
       "5 PDP1 , ACSS1, PDK3 , DIP2A, DLD  , PDPR                                       \n",
       "6 NUDT7, PDK4                                                                   "
      ]
     },
     "metadata": {},
     "output_type": "display_data"
    }
   ],
   "source": [
    "# Running the fgsea function\n",
    "\n",
    "fgseaRes <- fgsea(gmt.file, DE.ranks, minSize=15, maxSize=500)\n",
    "\n",
    "head(fgseaRes)"
   ]
  },
  {
   "cell_type": "code",
   "execution_count": 45,
   "id": "6cfaded9",
   "metadata": {},
   "outputs": [
    {
     "data": {
      "text/html": [
       "<table class=\"dataframe\">\n",
       "<caption>A data.table: 6 × 7</caption>\n",
       "<thead>\n",
       "\t<tr><th scope=col>pathway</th><th scope=col>pval</th><th scope=col>padj</th><th scope=col>log2err</th><th scope=col>ES</th><th scope=col>NES</th><th scope=col>size</th></tr>\n",
       "\t<tr><th scope=col>&lt;chr&gt;</th><th scope=col>&lt;dbl&gt;</th><th scope=col>&lt;dbl&gt;</th><th scope=col>&lt;dbl&gt;</th><th scope=col>&lt;dbl&gt;</th><th scope=col>&lt;dbl&gt;</th><th scope=col>&lt;int&gt;</th></tr>\n",
       "</thead>\n",
       "<tbody>\n",
       "\t<tr><td>GOBP_SKIN_DEVELOPMENT                             </td><td>4.680365e-16</td><td>1.615662e-12</td><td>1.0276699</td><td>0.6608134</td><td>2.406081</td><td>197</td></tr>\n",
       "\t<tr><td>GOBP_EPIDERMIS_DEVELOPMENT                        </td><td>2.583387e-14</td><td>4.458926e-11</td><td>0.9759947</td><td>0.6216581</td><td>2.290990</td><td>224</td></tr>\n",
       "\t<tr><td>GOBP_EPITHELIAL_CELL_DIFFERENTIATION              </td><td>4.401784e-12</td><td>3.798740e-09</td><td>0.8870750</td><td>0.5019336</td><td>1.973844</td><td>449</td></tr>\n",
       "\t<tr><td>GOBP_TISSUE_MORPHOGENESIS                         </td><td>3.807005e-12</td><td>3.798740e-09</td><td>0.8870750</td><td>0.4987493</td><td>1.968925</td><td>478</td></tr>\n",
       "\t<tr><td>GOBP_MORPHOGENESIS_OF_AN_EPITHELIUM               </td><td>1.834514e-11</td><td>1.266549e-08</td><td>0.8634154</td><td>0.5088502</td><td>1.988096</td><td>410</td></tr>\n",
       "\t<tr><td>GOBP_EXTERNAL_ENCAPSULATING_STRUCTURE_ORGANIZATION</td><td>2.397942e-11</td><td>1.379616e-08</td><td>0.8634154</td><td>0.5602733</td><td>2.095861</td><td>265</td></tr>\n",
       "</tbody>\n",
       "</table>\n"
      ],
      "text/latex": [
       "A data.table: 6 × 7\n",
       "\\begin{tabular}{lllllll}\n",
       " pathway & pval & padj & log2err & ES & NES & size\\\\\n",
       " <chr> & <dbl> & <dbl> & <dbl> & <dbl> & <dbl> & <int>\\\\\n",
       "\\hline\n",
       "\t GOBP\\_SKIN\\_DEVELOPMENT                              & 4.680365e-16 & 1.615662e-12 & 1.0276699 & 0.6608134 & 2.406081 & 197\\\\\n",
       "\t GOBP\\_EPIDERMIS\\_DEVELOPMENT                         & 2.583387e-14 & 4.458926e-11 & 0.9759947 & 0.6216581 & 2.290990 & 224\\\\\n",
       "\t GOBP\\_EPITHELIAL\\_CELL\\_DIFFERENTIATION               & 4.401784e-12 & 3.798740e-09 & 0.8870750 & 0.5019336 & 1.973844 & 449\\\\\n",
       "\t GOBP\\_TISSUE\\_MORPHOGENESIS                          & 3.807005e-12 & 3.798740e-09 & 0.8870750 & 0.4987493 & 1.968925 & 478\\\\\n",
       "\t GOBP\\_MORPHOGENESIS\\_OF\\_AN\\_EPITHELIUM                & 1.834514e-11 & 1.266549e-08 & 0.8634154 & 0.5088502 & 1.988096 & 410\\\\\n",
       "\t GOBP\\_EXTERNAL\\_ENCAPSULATING\\_STRUCTURE\\_ORGANIZATION & 2.397942e-11 & 1.379616e-08 & 0.8634154 & 0.5602733 & 2.095861 & 265\\\\\n",
       "\\end{tabular}\n"
      ],
      "text/markdown": [
       "\n",
       "A data.table: 6 × 7\n",
       "\n",
       "| pathway &lt;chr&gt; | pval &lt;dbl&gt; | padj &lt;dbl&gt; | log2err &lt;dbl&gt; | ES &lt;dbl&gt; | NES &lt;dbl&gt; | size &lt;int&gt; |\n",
       "|---|---|---|---|---|---|---|\n",
       "| GOBP_SKIN_DEVELOPMENT                              | 4.680365e-16 | 1.615662e-12 | 1.0276699 | 0.6608134 | 2.406081 | 197 |\n",
       "| GOBP_EPIDERMIS_DEVELOPMENT                         | 2.583387e-14 | 4.458926e-11 | 0.9759947 | 0.6216581 | 2.290990 | 224 |\n",
       "| GOBP_EPITHELIAL_CELL_DIFFERENTIATION               | 4.401784e-12 | 3.798740e-09 | 0.8870750 | 0.5019336 | 1.973844 | 449 |\n",
       "| GOBP_TISSUE_MORPHOGENESIS                          | 3.807005e-12 | 3.798740e-09 | 0.8870750 | 0.4987493 | 1.968925 | 478 |\n",
       "| GOBP_MORPHOGENESIS_OF_AN_EPITHELIUM                | 1.834514e-11 | 1.266549e-08 | 0.8634154 | 0.5088502 | 1.988096 | 410 |\n",
       "| GOBP_EXTERNAL_ENCAPSULATING_STRUCTURE_ORGANIZATION | 2.397942e-11 | 1.379616e-08 | 0.8634154 | 0.5602733 | 2.095861 | 265 |\n",
       "\n"
      ],
      "text/plain": [
       "  pathway                                            pval         padj        \n",
       "1 GOBP_SKIN_DEVELOPMENT                              4.680365e-16 1.615662e-12\n",
       "2 GOBP_EPIDERMIS_DEVELOPMENT                         2.583387e-14 4.458926e-11\n",
       "3 GOBP_EPITHELIAL_CELL_DIFFERENTIATION               4.401784e-12 3.798740e-09\n",
       "4 GOBP_TISSUE_MORPHOGENESIS                          3.807005e-12 3.798740e-09\n",
       "5 GOBP_MORPHOGENESIS_OF_AN_EPITHELIUM                1.834514e-11 1.266549e-08\n",
       "6 GOBP_EXTERNAL_ENCAPSULATING_STRUCTURE_ORGANIZATION 2.397942e-11 1.379616e-08\n",
       "  log2err   ES        NES      size\n",
       "1 1.0276699 0.6608134 2.406081 197 \n",
       "2 0.9759947 0.6216581 2.290990 224 \n",
       "3 0.8870750 0.5019336 1.973844 449 \n",
       "4 0.8870750 0.4987493 1.968925 478 \n",
       "5 0.8634154 0.5088502 1.988096 410 \n",
       "6 0.8634154 0.5602733 2.095861 265 "
      ]
     },
     "metadata": {},
     "output_type": "display_data"
    }
   ],
   "source": [
    "# ordered from most sign. to least \n",
    "\n",
    "topPathways <- fgseaRes[order(padj)]\n",
    "\n",
    "topPathways$leadingEdge <- NULL\n",
    "\n",
    "head(topPathways)"
   ]
  },
  {
   "cell_type": "markdown",
   "id": "ead451ae",
   "metadata": {},
   "source": [
    "# Pathway Enrichment Analysis"
   ]
  },
  {
   "cell_type": "code",
   "execution_count": 46,
   "id": "93016d6e",
   "metadata": {},
   "outputs": [
    {
     "name": "stderr",
     "output_type": "stream",
     "text": [
      "'select()' returned 1:many mapping between keys and columns\n",
      "\n"
     ]
    },
    {
     "name": "stdout",
     "output_type": "stream",
     "text": [
      "[1] \"Total number of significant genes: 3442\"\n"
     ]
    }
   ],
   "source": [
    "# selecting sign. DE genes\n",
    "\n",
    "library(\"AnnotationDbi\")\n",
    "library(\"org.Hs.eg.db\")\n",
    "\n",
    "\n",
    "# adding symbol column for further pathway analysis\n",
    "\n",
    "res$symbol = mapIds(org.Hs.eg.db,\n",
    "                    keys=row.names(res), \n",
    "                    column=\"SYMBOL\",\n",
    "                    keytype=\"ENSEMBL\",\n",
    "                    multiVals=\"first\")\n",
    "\n",
    "sig_genes <- res[res$padj <= 0.05 & !is.na(res$padj), \"symbol\"]\n",
    "\n",
    "print(paste(\"Total number of significant genes:\", length(sig_genes)))\n"
   ]
  },
  {
   "cell_type": "code",
   "execution_count": 47,
   "id": "5464df6e",
   "metadata": {},
   "outputs": [],
   "source": [
    "write.table(sig_genes, file=\"significant_genes.txt\", row.names=FALSE, col.names=FALSE, quote=FALSE)"
   ]
  },
  {
   "cell_type": "markdown",
   "id": "ca2720e9",
   "metadata": {},
   "source": [
    "Performing pathway analysis online where I uploaded \"significant_genes.txt\" to Reactome website (https://reactome.org/PathwayBrowser/#TOOL=AT). Selectied parameters:“Project to Humans”"
   ]
  },
  {
   "cell_type": "code",
   "execution_count": 49,
   "id": "8806aa9e",
   "metadata": {},
   "outputs": [],
   "source": [
    "reactome_res <- read.csv(\"reactome_result.csv\")"
   ]
  },
  {
   "cell_type": "code",
   "execution_count": 52,
   "id": "21df12ae",
   "metadata": {},
   "outputs": [
    {
     "data": {
      "text/html": [
       "<table class=\"dataframe\">\n",
       "<caption>A data.frame: 10 × 2</caption>\n",
       "<thead>\n",
       "\t<tr><th></th><th scope=col>Pathway.name</th><th scope=col>Entities.pValue</th></tr>\n",
       "\t<tr><th></th><th scope=col>&lt;chr&gt;</th><th scope=col>&lt;dbl&gt;</th></tr>\n",
       "</thead>\n",
       "<tbody>\n",
       "\t<tr><th scope=row>1</th><td>Non-integrin membrane-ECM interactions  </td><td>0.000027673</td></tr>\n",
       "\t<tr><th scope=row>2</th><td>Integrin cell surface interactions      </td><td>0.000111321</td></tr>\n",
       "\t<tr><th scope=row>3</th><td>Elastic fibre formation                 </td><td>0.000163532</td></tr>\n",
       "\t<tr><th scope=row>4</th><td>Extracellular matrix organization       </td><td>0.000178736</td></tr>\n",
       "\t<tr><th scope=row>5</th><td>Cell junction organization              </td><td>0.000218753</td></tr>\n",
       "\t<tr><th scope=row>6</th><td>Anchoring fibril formation              </td><td>0.000390001</td></tr>\n",
       "\t<tr><th scope=row>7</th><td>Molecules associated with elastic fibres</td><td>0.000396877</td></tr>\n",
       "\t<tr><th scope=row>8</th><td>Laminin interactions                    </td><td>0.000769198</td></tr>\n",
       "\t<tr><th scope=row>9</th><td>Cell-Cell communication                 </td><td>0.000863727</td></tr>\n",
       "\t<tr><th scope=row>10</th><td>Collagen formation                      </td><td>0.002154408</td></tr>\n",
       "</tbody>\n",
       "</table>\n"
      ],
      "text/latex": [
       "A data.frame: 10 × 2\n",
       "\\begin{tabular}{r|ll}\n",
       "  & Pathway.name & Entities.pValue\\\\\n",
       "  & <chr> & <dbl>\\\\\n",
       "\\hline\n",
       "\t1 & Non-integrin membrane-ECM interactions   & 0.000027673\\\\\n",
       "\t2 & Integrin cell surface interactions       & 0.000111321\\\\\n",
       "\t3 & Elastic fibre formation                  & 0.000163532\\\\\n",
       "\t4 & Extracellular matrix organization        & 0.000178736\\\\\n",
       "\t5 & Cell junction organization               & 0.000218753\\\\\n",
       "\t6 & Anchoring fibril formation               & 0.000390001\\\\\n",
       "\t7 & Molecules associated with elastic fibres & 0.000396877\\\\\n",
       "\t8 & Laminin interactions                     & 0.000769198\\\\\n",
       "\t9 & Cell-Cell communication                  & 0.000863727\\\\\n",
       "\t10 & Collagen formation                       & 0.002154408\\\\\n",
       "\\end{tabular}\n"
      ],
      "text/markdown": [
       "\n",
       "A data.frame: 10 × 2\n",
       "\n",
       "| <!--/--> | Pathway.name &lt;chr&gt; | Entities.pValue &lt;dbl&gt; |\n",
       "|---|---|---|\n",
       "| 1 | Non-integrin membrane-ECM interactions   | 0.000027673 |\n",
       "| 2 | Integrin cell surface interactions       | 0.000111321 |\n",
       "| 3 | Elastic fibre formation                  | 0.000163532 |\n",
       "| 4 | Extracellular matrix organization        | 0.000178736 |\n",
       "| 5 | Cell junction organization               | 0.000218753 |\n",
       "| 6 | Anchoring fibril formation               | 0.000390001 |\n",
       "| 7 | Molecules associated with elastic fibres | 0.000396877 |\n",
       "| 8 | Laminin interactions                     | 0.000769198 |\n",
       "| 9 | Cell-Cell communication                  | 0.000863727 |\n",
       "| 10 | Collagen formation                       | 0.002154408 |\n",
       "\n"
      ],
      "text/plain": [
       "   Pathway.name                             Entities.pValue\n",
       "1  Non-integrin membrane-ECM interactions   0.000027673    \n",
       "2  Integrin cell surface interactions       0.000111321    \n",
       "3  Elastic fibre formation                  0.000163532    \n",
       "4  Extracellular matrix organization        0.000178736    \n",
       "5  Cell junction organization               0.000218753    \n",
       "6  Anchoring fibril formation               0.000390001    \n",
       "7  Molecules associated with elastic fibres 0.000396877    \n",
       "8  Laminin interactions                     0.000769198    \n",
       "9  Cell-Cell communication                  0.000863727    \n",
       "10 Collagen formation                       0.002154408    "
      ]
     },
     "metadata": {},
     "output_type": "display_data"
    }
   ],
   "source": [
    "# top dysregulated pathways\n",
    "\n",
    "reactome_res %>% dplyr::select(2, 6) %>% head(10)"
   ]
  },
  {
   "cell_type": "markdown",
   "id": "29482287",
   "metadata": {},
   "source": [
    "Gene Ontology Biological Pathways (GOBP) related to the tumor micro-environment, particularly the extracellular matrix, were enriched in carboplatin-resistant cells"
   ]
  },
  {
   "cell_type": "code",
   "execution_count": null,
   "id": "9568f72e",
   "metadata": {},
   "outputs": [],
   "source": []
  }
 ],
 "metadata": {
  "kernelspec": {
   "display_name": "R",
   "language": "R",
   "name": "ir"
  },
  "language_info": {
   "codemirror_mode": "r",
   "file_extension": ".r",
   "mimetype": "text/x-r-source",
   "name": "R",
   "pygments_lexer": "r",
   "version": "4.2.1"
  }
 },
 "nbformat": 4,
 "nbformat_minor": 5
}
